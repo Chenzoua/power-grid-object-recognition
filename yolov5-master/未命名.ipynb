{
 "cells": [
  {
   "cell_type": "code",
   "execution_count": 1,
   "id": "95faf276",
   "metadata": {},
   "outputs": [
    {
     "ename": "IndentationError",
     "evalue": "unexpected indent (4137598485.py, line 61)",
     "output_type": "error",
     "traceback": [
      "\u001b[0;36m  Cell \u001b[0;32mIn[1], line 61\u001b[0;36m\u001b[0m\n\u001b[0;31m    pretrained = weights.endswith('.pt')\u001b[0m\n\u001b[0m    ^\u001b[0m\n\u001b[0;31mIndentationError\u001b[0m\u001b[0;31m:\u001b[0m unexpected indent\n"
     ]
    }
   ],
   "source": [
    "# YOLOv5 🚀 by Ultralytics, GPL-3.0 license\n",
    "\"\"\"\n",
    "Train a YOLOv5 model on a custom dataset.\n",
    "\n",
    "Models and datasets download automatically from the latest YOLOv5 release.\n",
    "Models: https://github.com/ultralytics/yolov5/tree/master/models\n",
    "Datasets: https://github.com/ultralytics/yolov5/tree/master/data\n",
    "Tutorial: https://github.com/ultralytics/yolov5/wiki/Train-Custom-Data\n",
    "\n",
    "Usage:\n",
    "    $ python path/to/train.py --data coco128.yaml --weights yolov5s.pt --img 640  # from pretrained (RECOMMENDED)\n",
    "    $ python path/to/train.py --data coco128.yaml --weights '' --cfg yolov5s.yaml --img 640  # from scratch\n",
    "\"\"\"\n",
    "\n",
    "import argparse\n",
    "import math\n",
    "import os\n",
    "import random\n",
    "import sys\n",
    "import time\n",
    "from copy import deepcopy\n",
    "from datetime import datetime\n",
    "from pathlib import Path\n",
    "\n",
    "import numpy as np\n",
    "import torch\n",
    "import torch.distributed as dist\n",
    "import torch.nn as nn\n",
    "import yaml\n",
    "from torch.cuda import amp\n",
    "from torch.nn.parallel import DistributedDataParallel as DDP\n",
    "from torch.optim import SGD, Adam, AdamW, lr_scheduler\n",
    "from tqdm import tqdm\n",
    "\n",
    "FILE = Path(__file__).resolve()\n",
    "ROOT = FILE.parents[0]  # YOLOv5 root directory\n",
    "if str(ROOT) not in sys.path:\n",
    "    sys.path.append(str(ROOT))  # add ROOT to PATH\n",
    "ROOT = Path(os.path.relpath(ROOT, Path.cwd()))  # relative\n",
    "\n",
    "import val  # for end-of-epoch mAP\n",
    "from models.experimental import attempt_load\n",
    "from models.yolo import Model\n",
    "from utils.autoanchor import check_anchors\n",
    "from utils.autobatch import check_train_batch_size\n",
    "from utils.callbacks import Callbacks\n",
    "from utils.datasets import create_dataloader\n",
    "from utils.downloads import attempt_download\n",
    "from utils.general import (LOGGER, check_dataset, check_file, check_git_status, check_img_size, check_requirements,\n",
    "                           check_suffix, check_yaml, colorstr, get_latest_run, increment_path, init_seeds,\n",
    "                           intersect_dicts, labels_to_class_weights, labels_to_image_weights, methods, one_cycle,\n",
    "                           print_args, print_mutation, strip_optimizer)\n",
    "from utils.loggers import Loggers\n",
    "from utils.loggers.wandb.wandb_utils import check_wandb_resume\n",
    "from utils.loss import ComputeLoss\n",
    "from utils.metrics import fitness\n",
    "from utils.plots import plot_evolve, plot_labels\n",
    "from utils.torch_utils import EarlyStopping, ModelEMA, de_parallel, select_device, torch_distributed_zero_first\n",
    "\n",
    "check_suffix(weights, '.pt')  # check weights\n",
    "    pretrained = weights.endswith('.pt')\n",
    "    if pretrained:\n",
    "        with torch_distributed_zero_first(LOCAL_RANK):\n",
    "            weights = attempt_download(weights)  # download if not found locally\n",
    "        ckpt = torch.load(weights, map_location=device)  # load checkpoint\n",
    "        model = Model(cfg or ckpt['model'].yaml, ch=3, nc=nc, anchors=hyp.get('anchors')).to(device)  # create\n",
    "        exclude = ['anchor'] if (cfg or hyp.get('anchors')) and not resume else []  # exclude keys\n",
    "        csd = ckpt['model'].float().state_dict()  # checkpoint state_dict as FP32\n",
    "        csd = intersect_dicts(csd, model.state_dict(), exclude=exclude)  # intersect\n",
    "        model.load_state_dict(csd, strict=False)  # load\n",
    "        LOGGER.info(f'Transferred {len(csd)}/{len(model.state_dict())} items from {weights}')  # report\n",
    "    else:\n",
    "        model = Model(cfg, ch=3, nc=nc, anchors=hyp.get('anchors')).to(device)  # create\n",
    "        print(model)"
   ]
  },
  {
   "cell_type": "code",
   "execution_count": null,
   "id": "cb179292",
   "metadata": {},
   "outputs": [],
   "source": []
  }
 ],
 "metadata": {
  "kernelspec": {
   "display_name": "Python 3 (ipykernel)",
   "language": "python",
   "name": "python3"
  },
  "language_info": {
   "codemirror_mode": {
    "name": "ipython",
    "version": 3
   },
   "file_extension": ".py",
   "mimetype": "text/x-python",
   "name": "python",
   "nbconvert_exporter": "python",
   "pygments_lexer": "ipython3",
   "version": "3.11.3"
  }
 },
 "nbformat": 4,
 "nbformat_minor": 5
}
